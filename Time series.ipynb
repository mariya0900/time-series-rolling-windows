{
 "cells": [
  {
   "cell_type": "markdown",
   "id": "62a6552e",
   "metadata": {},
   "source": [
    "# Daily Min Temperature Forecasting using Rolling Windows and RNN"
   ]
  },
  {
   "cell_type": "markdown",
   "id": "f358edae",
   "metadata": {},
   "source": [
    "I will be using the [Daily Minimum Temperatures in Melbourne](https://github.com/jbrownlee/Datasets/blob/master/daily-min-temperatures.csv) dataset which contains data of the daily minimum temperatures recorded in Melbourne from 1981 to 1990. In addition to be using Tensorflow's layers for processing sequence data such as Recurrent layers or LSTMs I will also use Convolutional layers to improve the model's performance."
   ]
  },
  {
   "cell_type": "code",
   "execution_count": 2,
   "id": "95955110",
   "metadata": {},
   "outputs": [],
   "source": [
    "import csv\n",
    "import numpy as np\n",
    "import pandas as pd\n",
    "import tensorflow as tf\n",
    "import matplotlib.pyplot as plt"
   ]
  },
  {
   "cell_type": "code",
   "execution_count": 4,
   "id": "26d26b0b",
   "metadata": {},
   "outputs": [
    {
     "data": {
      "text/html": [
       "<div>\n",
       "<style scoped>\n",
       "    .dataframe tbody tr th:only-of-type {\n",
       "        vertical-align: middle;\n",
       "    }\n",
       "\n",
       "    .dataframe tbody tr th {\n",
       "        vertical-align: top;\n",
       "    }\n",
       "\n",
       "    .dataframe thead th {\n",
       "        text-align: right;\n",
       "    }\n",
       "</style>\n",
       "<table border=\"1\" class=\"dataframe\">\n",
       "  <thead>\n",
       "    <tr style=\"text-align: right;\">\n",
       "      <th></th>\n",
       "      <th>Date</th>\n",
       "      <th>Temp</th>\n",
       "    </tr>\n",
       "  </thead>\n",
       "  <tbody>\n",
       "    <tr>\n",
       "      <th>0</th>\n",
       "      <td>1981-01-01</td>\n",
       "      <td>20.7</td>\n",
       "    </tr>\n",
       "    <tr>\n",
       "      <th>1</th>\n",
       "      <td>1981-01-02</td>\n",
       "      <td>17.9</td>\n",
       "    </tr>\n",
       "    <tr>\n",
       "      <th>2</th>\n",
       "      <td>1981-01-03</td>\n",
       "      <td>18.8</td>\n",
       "    </tr>\n",
       "    <tr>\n",
       "      <th>3</th>\n",
       "      <td>1981-01-04</td>\n",
       "      <td>14.6</td>\n",
       "    </tr>\n",
       "    <tr>\n",
       "      <th>4</th>\n",
       "      <td>1981-01-05</td>\n",
       "      <td>15.8</td>\n",
       "    </tr>\n",
       "  </tbody>\n",
       "</table>\n",
       "</div>"
      ],
      "text/plain": [
       "         Date  Temp\n",
       "0  1981-01-01  20.7\n",
       "1  1981-01-02  17.9\n",
       "2  1981-01-03  18.8\n",
       "3  1981-01-04  14.6\n",
       "4  1981-01-05  15.8"
      ]
     },
     "execution_count": 4,
     "metadata": {},
     "output_type": "execute_result"
    }
   ],
   "source": [
    "temperatures_csv_path = \"./data/daily-min-temperatures.csv\"\n",
    "df = pd.read_csv(temperatures_csv_path)\n",
    "df.head(5)"
   ]
  },
  {
   "cell_type": "code",
   "execution_count": 7,
   "id": "ca160880",
   "metadata": {},
   "outputs": [
    {
     "data": {
      "text/plain": [
       "(3650, 2)"
      ]
     },
     "execution_count": 7,
     "metadata": {},
     "output_type": "execute_result"
    }
   ],
   "source": [
    "df.shape"
   ]
  },
  {
   "cell_type": "code",
   "execution_count": 8,
   "id": "2de03ae7",
   "metadata": {},
   "outputs": [
    {
     "data": {
      "text/html": [
       "<div>\n",
       "<style scoped>\n",
       "    .dataframe tbody tr th:only-of-type {\n",
       "        vertical-align: middle;\n",
       "    }\n",
       "\n",
       "    .dataframe tbody tr th {\n",
       "        vertical-align: top;\n",
       "    }\n",
       "\n",
       "    .dataframe thead th {\n",
       "        text-align: right;\n",
       "    }\n",
       "</style>\n",
       "<table border=\"1\" class=\"dataframe\">\n",
       "  <thead>\n",
       "    <tr style=\"text-align: right;\">\n",
       "      <th></th>\n",
       "      <th>Temp</th>\n",
       "    </tr>\n",
       "  </thead>\n",
       "  <tbody>\n",
       "    <tr>\n",
       "      <th>count</th>\n",
       "      <td>3650.000000</td>\n",
       "    </tr>\n",
       "    <tr>\n",
       "      <th>mean</th>\n",
       "      <td>11.177753</td>\n",
       "    </tr>\n",
       "    <tr>\n",
       "      <th>std</th>\n",
       "      <td>4.071837</td>\n",
       "    </tr>\n",
       "    <tr>\n",
       "      <th>min</th>\n",
       "      <td>0.000000</td>\n",
       "    </tr>\n",
       "    <tr>\n",
       "      <th>25%</th>\n",
       "      <td>8.300000</td>\n",
       "    </tr>\n",
       "    <tr>\n",
       "      <th>50%</th>\n",
       "      <td>11.000000</td>\n",
       "    </tr>\n",
       "    <tr>\n",
       "      <th>75%</th>\n",
       "      <td>14.000000</td>\n",
       "    </tr>\n",
       "    <tr>\n",
       "      <th>max</th>\n",
       "      <td>26.300000</td>\n",
       "    </tr>\n",
       "  </tbody>\n",
       "</table>\n",
       "</div>"
      ],
      "text/plain": [
       "              Temp\n",
       "count  3650.000000\n",
       "mean     11.177753\n",
       "std       4.071837\n",
       "min       0.000000\n",
       "25%       8.300000\n",
       "50%      11.000000\n",
       "75%      14.000000\n",
       "max      26.300000"
      ]
     },
     "execution_count": 8,
     "metadata": {},
     "output_type": "execute_result"
    }
   ],
   "source": [
    "df.describe()"
   ]
  },
  {
   "cell_type": "code",
   "execution_count": 9,
   "id": "1376bdda",
   "metadata": {},
   "outputs": [],
   "source": [
    "def plot_series(time, series, format=\"-\", start=0, end=None):\n",
    "    plt.plot(time[start:end], series[start:end], format)\n",
    "    plt.xlabel(\"Time\")\n",
    "    plt.ylabel(\"Value\")\n",
    "    plt.grid(True)"
   ]
  },
  {
   "cell_type": "code",
   "execution_count": 22,
   "id": "a49b6be4",
   "metadata": {},
   "outputs": [],
   "source": [
    "def parse_data(dataframe):\n",
    "    times = np.arange(3650)\n",
    "    temperatures = np.array(dataframe['Temp'])\n",
    "    return times, temperatures"
   ]
  },
  {
   "cell_type": "code",
   "execution_count": 23,
   "id": "03a2c255",
   "metadata": {},
   "outputs": [],
   "source": [
    "times, temperatures = parse_data(df)"
   ]
  },
  {
   "cell_type": "code",
   "execution_count": 25,
   "id": "6cf14fff",
   "metadata": {},
   "outputs": [
    {
     "data": {
      "image/png": "[encoded data removed]",
      "text/plain": [
       "<Figure size 720x432 with 1 Axes>"
      ]
     },
     "metadata": {
      "needs_background": "light"
     },
     "output_type": "display_data"
    }
   ],
   "source": [
    "plt.figure(figsize=(10, 6))\n",
    "plot_series(times, temperatures)\n",
    "plt.show()"
   ]
  },
  {
   "cell_type": "code",
   "execution_count": null,
   "id": "ed2c3b09",
   "metadata": {},
   "outputs": [],
   "source": [
    "SPLIT_TIME = 2500\n",
    "WINDOW_SIZE = 64\n",
    "BATCH_SIZE = 256\n",
    "SHUFFLE_BUFFER_SIZE = 1000"
   ]
  },
  {
   "cell_type": "markdown",
   "id": "964b0310",
   "metadata": {},
   "source": [
    "# Processing the data"
   ]
  },
  {
   "cell_type": "code",
   "execution_count": 27,
   "id": "eccbfff1",
   "metadata": {},
   "outputs": [],
   "source": [
    "def train_val_split(time, series, time_step=SPLIT_TIME):\n",
    "\n",
    "    time_train = time[:time_step]\n",
    "    series_train = series[:time_step]\n",
    "    time_valid = time[time_step:]\n",
    "    series_valid = series[time_step:]\n",
    "\n",
    "    return time_train, series_train, time_valid, series_valid\n",
    "\n",
    "\n",
    "# Split the dataset\n",
    "time_train, series_train, time_valid, series_valid = train_val_split(times, temperatures)"
   ]
  },
  {
   "cell_type": "code",
   "execution_count": 28,
   "id": "7dae608e",
   "metadata": {},
   "outputs": [],
   "source": [
    "def windowed_dataset(series, window_size=WINDOW_SIZE, batch_size=BATCH_SIZE, shuffle_buffer=SHUFFLE_BUFFER_SIZE):\n",
    "    ds = tf.data.Dataset.from_tensor_slices(series)\n",
    "    ds = ds.window(window_size + 1, shift=1, drop_remainder=True) \n",
    "    ds = ds.flat_map(lambda w: w.batch(window_size + 1))# Flatten the windows by putting its elements in a single batch\n",
    "    ds = ds.shuffle(shuffle_buffer)\n",
    "    ds = ds.map(lambda w: (w[:-1], w[-1]))# Create tuples with features (first n elements of the window) and labels (last element)\n",
    "    ds = ds.batch(batch_size).prefetch(1)\n",
    "    return ds\n",
    "\n",
    "\n",
    "# Apply the transformation to the training set\n",
    "train_set = windowed_dataset(series_train, window_size=64, batch_size=256, shuffle_buffer=1000)"
   ]
  },
  {
   "cell_type": "markdown",
   "id": "f4ceb032",
   "metadata": {},
   "source": [
    "# Defining the model"
   ]
  },
  {
   "cell_type": "code",
   "execution_count": 29,
   "id": "b38e1cba",
   "metadata": {},
   "outputs": [],
   "source": [
    "def create_uncompiled_model():\n",
    "    \n",
    "    model = tf.keras.models.Sequential([\n",
    "        tf.keras.layers.Conv1D(filters=64, kernel_size=3,\n",
    "                      strides=1,\n",
    "                      activation=\"relu\",\n",
    "                      padding='causal',\n",
    "                      input_shape=[WINDOW_SIZE, 1]),\n",
    "        tf.keras.layers.LSTM(64, return_sequences=True),\n",
    "        tf.keras.layers.LSTM(64),\n",
    "        tf.keras.layers.Dense(20, activation=\"relu\"),\n",
    "        # tf.keras.layers.Dense(10, activation=\"relu\"),\n",
    "        tf.keras.layers.Dense(1),\n",
    "        \n",
    "    ]) \n",
    "    #lstm64=128 everywhere\n",
    "    #filter64-124 Dense 30, 10, 1, lr = 5e-3,loss: 1.5570 - mae: 2.0010 mse: 6.50, mae: 2.02 for forecast\n",
    "    #filter64-124 Dense 20, 1,    lr = 5e-3, loss: 1.4919 - mae: 1.9340               mse: 5.57, mae: 1.84 for forecast\n",
    "    #filter64-124 Dense 20, 1,    lr = 5e-4, loss: 1.4926 - mae: 1.9320               mse: 5.75, mae: 1.87 for forecast\n",
    "\n",
    "    return model"
   ]
  },
  {
   "cell_type": "markdown",
   "id": "f45e4faa",
   "metadata": {},
   "source": [
    "# Adjusting the learning rate"
   ]
  },
  {
   "cell_type": "code",
   "execution_count": 30,
   "id": "9afd0795",
   "metadata": {},
   "outputs": [],
   "source": [
    "def adjust_learning_rate(dataset):\n",
    "    \n",
    "    model = create_uncompiled_model()\n",
    "    \n",
    "    lr_schedule = tf.keras.callbacks.LearningRateScheduler(lambda epoch: 1e-4 * 10**(epoch / 20))\n",
    "    \n",
    "    # Select your optimizer\n",
    "    optimizer = tf.keras.optimizers.SGD(momentum = 0.9)\n",
    "    \n",
    "    # Compile the model passing in the appropriate loss\n",
    "    model.compile(loss=tf.keras.losses.Huber(),\n",
    "                  optimizer=optimizer, \n",
    "                  metrics=[\"mae\"]) \n",
    "    \n",
    "    history = model.fit(dataset, epochs=100, callbacks=[lr_schedule])\n",
    "    \n",
    "    return history"
   ]
  },
  {
   "cell_type": "code",
   "execution_count": 31,
   "id": "cc3cbddc",
   "metadata": {},
   "outputs": [
    {
     "name": "stdout",
     "output_type": "stream",
     "text": [
      "Epoch 1/100\n",
      "10/10 [==============================] - 4s 120ms/step - loss: 9.8874 - mae: 10.3861 - lr: 1.0000e-04\n",
      "Epoch 2/100\n",
      "10/10 [==============================] - 1s 112ms/step - loss: 9.3384 - mae: 9.8368 - lr: 1.1220e-04\n",
      "Epoch 3/100\n",
      "10/10 [==============================] - 1s 107ms/step - loss: 8.6639 - mae: 9.1618 - lr: 1.2589e-04\n",
      "Epoch 4/100\n",
      "10/10 [==============================] - 1s 108ms/step - loss: 7.9993 - mae: 8.4971 - lr: 1.4125e-04\n",
      "Epoch 5/100\n",
      "10/10 [==============================] - 1s 109ms/step - loss: 7.2949 - mae: 7.7906 - lr: 1.5849e-04\n",
      "Epoch 6/100\n",
      "10/10 [==============================] - 1s 107ms/step - loss: 6.5495 - mae: 7.0435 - lr: 1.7783e-04\n",
      "Epoch 7/100\n",
      "10/10 [==============================] - 1s 108ms/step - loss: 5.7552 - mae: 6.2453 - lr: 1.9953e-04\n",
      "Epoch 8/100\n",
      "10/10 [==============================] - 1s 111ms/step - loss: 4.9086 - mae: 5.3948 - lr: 2.2387e-04\n",
      "Epoch 9/100\n",
      "10/10 [==============================] - 1s 108ms/step - loss: 4.0465 - mae: 4.5235 - lr: 2.5119e-04\n",
      "Epoch 10/100\n",
      "10/10 [==============================] - 1s 112ms/step - loss: 3.2790 - mae: 3.7518 - lr: 2.8184e-04\n",
      "Epoch 11/100\n",
      "10/10 [==============================] - 1s 112ms/step - loss: 2.7684 - mae: 3.2356 - lr: 3.1623e-04\n",
      "Epoch 12/100\n",
      "10/10 [==============================] - 1s 109ms/step - loss: 2.5741 - mae: 3.0392 - lr: 3.5481e-04\n",
      "Epoch 13/100\n",
      "10/10 [==============================] - 1s 111ms/step - loss: 2.5316 - mae: 2.9953 - lr: 3.9811e-04\n",
      "Epoch 14/100\n",
      "10/10 [==============================] - 1s 109ms/step - loss: 2.4874 - mae: 2.9506 - lr: 4.4668e-04\n",
      "Epoch 15/100\n",
      "10/10 [==============================] - 1s 108ms/step - loss: 2.4109 - mae: 2.8723 - lr: 5.0119e-04\n",
      "Epoch 16/100\n",
      "10/10 [==============================] - 1s 110ms/step - loss: 2.3054 - mae: 2.7647 - lr: 5.6234e-04\n",
      "Epoch 17/100\n",
      "10/10 [==============================] - 1s 110ms/step - loss: 2.1559 - mae: 2.6124 - lr: 6.3096e-04\n",
      "Epoch 18/100\n",
      "10/10 [==============================] - 1s 107ms/step - loss: 1.9784 - mae: 2.4335 - lr: 7.0795e-04\n",
      "Epoch 19/100\n",
      "10/10 [==============================] - 1s 109ms/step - loss: 1.9324 - mae: 2.3868 - lr: 7.9433e-04\n",
      "Epoch 20/100\n",
      "10/10 [==============================] - 1s 109ms/step - loss: 1.9518 - mae: 2.4056 - lr: 8.9125e-04\n",
      "Epoch 21/100\n",
      "10/10 [==============================] - 1s 108ms/step - loss: 1.8492 - mae: 2.3000 - lr: 0.0010\n",
      "Epoch 22/100\n",
      "10/10 [==============================] - 1s 110ms/step - loss: 1.8492 - mae: 2.3014 - lr: 0.0011\n",
      "Epoch 23/100\n",
      "10/10 [==============================] - 1s 109ms/step - loss: 1.7849 - mae: 2.2367 - lr: 0.0013\n",
      "Epoch 24/100\n",
      "10/10 [==============================] - 1s 107ms/step - loss: 1.7554 - mae: 2.2052 - lr: 0.0014\n",
      "Epoch 25/100\n",
      "10/10 [==============================] - 1s 110ms/step - loss: 1.7822 - mae: 2.2347 - lr: 0.0016\n",
      "Epoch 26/100\n",
      "10/10 [==============================] - 1s 109ms/step - loss: 1.7685 - mae: 2.2220 - lr: 0.0018\n",
      "Epoch 27/100\n",
      "10/10 [==============================] - 1s 106ms/step - loss: 1.7612 - mae: 2.2131 - lr: 0.0020\n",
      "Epoch 28/100\n",
      "10/10 [==============================] - 1s 113ms/step - loss: 1.7212 - mae: 2.1723 - lr: 0.0022\n",
      "Epoch 29/100\n",
      "10/10 [==============================] - 1s 112ms/step - loss: 1.8220 - mae: 2.2743 - lr: 0.0025\n",
      "Epoch 30/100\n",
      "10/10 [==============================] - 1s 111ms/step - loss: 1.7910 - mae: 2.2455 - lr: 0.0028\n",
      "Epoch 31/100\n",
      "10/10 [==============================] - 1s 110ms/step - loss: 1.6988 - mae: 2.1513 - lr: 0.0032\n",
      "Epoch 32/100\n",
      "10/10 [==============================] - 1s 111ms/step - loss: 1.7186 - mae: 2.1707 - lr: 0.0035\n",
      "Epoch 33/100\n",
      "10/10 [==============================] - 1s 114ms/step - loss: 1.7197 - mae: 2.1699 - lr: 0.0040\n",
      "Epoch 34/100\n",
      "10/10 [==============================] - 1s 110ms/step - loss: 1.6876 - mae: 2.1376 - lr: 0.0045\n",
      "Epoch 35/100\n",
      "10/10 [==============================] - 1s 113ms/step - loss: 1.6556 - mae: 2.1046 - lr: 0.0050\n",
      "Epoch 36/100\n",
      "10/10 [==============================] - 1s 109ms/step - loss: 1.6724 - mae: 2.1204 - lr: 0.0056\n",
      "Epoch 37/100\n",
      "10/10 [==============================] - 1s 111ms/step - loss: 1.6008 - mae: 2.0475 - lr: 0.0063\n",
      "Epoch 38/100\n",
      "10/10 [==============================] - 1s 112ms/step - loss: 1.6759 - mae: 2.1258 - lr: 0.0071\n",
      "Epoch 39/100\n",
      "10/10 [==============================] - 1s 110ms/step - loss: 1.7076 - mae: 2.1576 - lr: 0.0079\n",
      "Epoch 40/100\n",
      "10/10 [==============================] - 1s 111ms/step - loss: 1.7892 - mae: 2.2402 - lr: 0.0089\n",
      "Epoch 41/100\n",
      "10/10 [==============================] - 1s 112ms/step - loss: 1.6107 - mae: 2.0587 - lr: 0.0100\n",
      "Epoch 42/100\n",
      "10/10 [==============================] - 1s 108ms/step - loss: 1.5564 - mae: 1.9956 - lr: 0.0112\n",
      "Epoch 43/100\n",
      "10/10 [==============================] - 1s 112ms/step - loss: 1.6834 - mae: 2.1332 - lr: 0.0126\n",
      "Epoch 44/100\n",
      "10/10 [==============================] - 1s 110ms/step - loss: 1.6084 - mae: 2.0534 - lr: 0.0141\n",
      "Epoch 45/100\n",
      "10/10 [==============================] - 1s 110ms/step - loss: 1.6957 - mae: 2.1444 - lr: 0.0158\n",
      "Epoch 46/100\n",
      "10/10 [==============================] - 1s 113ms/step - loss: 1.6388 - mae: 2.0848 - lr: 0.0178\n",
      "Epoch 47/100\n",
      "10/10 [==============================] - 1s 115ms/step - loss: 1.7671 - mae: 2.2149 - lr: 0.0200\n",
      "Epoch 48/100\n",
      "10/10 [==============================] - 1s 112ms/step - loss: 1.8306 - mae: 2.2823 - lr: 0.0224\n",
      "Epoch 49/100\n",
      "10/10 [==============================] - 1s 125ms/step - loss: 1.7418 - mae: 2.1888 - lr: 0.0251\n",
      "Epoch 50/100\n",
      "10/10 [==============================] - 1s 116ms/step - loss: 1.8117 - mae: 2.2627 - lr: 0.0282\n",
      "Epoch 51/100\n",
      "10/10 [==============================] - 1s 115ms/step - loss: 1.8196 - mae: 2.2741 - lr: 0.0316\n",
      "Epoch 52/100\n",
      "10/10 [==============================] - 1s 118ms/step - loss: 1.7934 - mae: 2.2452 - lr: 0.0355\n",
      "Epoch 53/100\n",
      "10/10 [==============================] - 1s 132ms/step - loss: 1.8486 - mae: 2.3032 - lr: 0.0398\n",
      "Epoch 54/100\n",
      "10/10 [==============================] - 1s 113ms/step - loss: 2.0251 - mae: 2.4813 - lr: 0.0447\n",
      "Epoch 55/100\n",
      "10/10 [==============================] - 1s 114ms/step - loss: 1.7019 - mae: 2.1524 - lr: 0.0501\n",
      "Epoch 56/100\n",
      "10/10 [==============================] - 1s 112ms/step - loss: 2.1376 - mae: 2.5978 - lr: 0.0562\n",
      "Epoch 57/100\n",
      "10/10 [==============================] - 1s 109ms/step - loss: 2.4452 - mae: 2.9109 - lr: 0.0631\n",
      "Epoch 58/100\n",
      "10/10 [==============================] - 1s 111ms/step - loss: 2.0766 - mae: 2.5334 - lr: 0.0708\n",
      "Epoch 59/100\n",
      "10/10 [==============================] - 1s 115ms/step - loss: 1.8296 - mae: 2.2817 - lr: 0.0794\n",
      "Epoch 60/100\n",
      "10/10 [==============================] - 1s 110ms/step - loss: 1.9221 - mae: 2.3747 - lr: 0.0891\n",
      "Epoch 61/100\n",
      "10/10 [==============================] - 1s 114ms/step - loss: 2.0532 - mae: 2.5097 - lr: 0.1000\n",
      "Epoch 62/100\n",
      "10/10 [==============================] - 1s 114ms/step - loss: 2.0083 - mae: 2.4640 - lr: 0.1122\n",
      "Epoch 63/100\n",
      "10/10 [==============================] - 1s 116ms/step - loss: 2.4173 - mae: 2.8807 - lr: 0.1259\n",
      "Epoch 64/100\n",
      "10/10 [==============================] - 1s 127ms/step - loss: 2.9105 - mae: 3.3785 - lr: 0.1413\n",
      "Epoch 65/100\n",
      "10/10 [==============================] - 1s 123ms/step - loss: 2.5026 - mae: 2.9662 - lr: 0.1585\n",
      "Epoch 66/100\n",
      "10/10 [==============================] - 1s 123ms/step - loss: 3.0220 - mae: 3.4902 - lr: 0.1778\n",
      "Epoch 67/100\n",
      "10/10 [==============================] - 1s 118ms/step - loss: 2.1004 - mae: 2.5577 - lr: 0.1995\n",
      "Epoch 68/100\n",
      "10/10 [==============================] - 1s 117ms/step - loss: 3.3761 - mae: 3.8483 - lr: 0.2239\n",
      "Epoch 69/100\n",
      "10/10 [==============================] - 1s 112ms/step - loss: 2.6530 - mae: 3.1199 - lr: 0.2512\n",
      "Epoch 70/100\n",
      "10/10 [==============================] - 1s 119ms/step - loss: 3.2966 - mae: 3.7671 - lr: 0.2818\n",
      "Epoch 71/100\n",
      "10/10 [==============================] - 1s 114ms/step - loss: 2.7692 - mae: 3.2394 - lr: 0.3162\n",
      "Epoch 72/100\n",
      "10/10 [==============================] - 1s 115ms/step - loss: 2.7466 - mae: 3.2155 - lr: 0.3548\n",
      "Epoch 73/100\n",
      "10/10 [==============================] - 1s 118ms/step - loss: 2.7697 - mae: 3.2366 - lr: 0.3981\n",
      "Epoch 74/100\n",
      "10/10 [==============================] - 1s 116ms/step - loss: 2.7088 - mae: 3.1733 - lr: 0.4467\n"
     ]
    },
    {
     "name": "stdout",
     "output_type": "stream",
     "text": [
      "Epoch 75/100\n",
      "10/10 [==============================] - 1s 116ms/step - loss: 2.7229 - mae: 3.1899 - lr: 0.5012\n",
      "Epoch 76/100\n",
      "10/10 [==============================] - 1s 113ms/step - loss: 2.7133 - mae: 3.1797 - lr: 0.5623\n",
      "Epoch 77/100\n",
      "10/10 [==============================] - 1s 114ms/step - loss: 2.7158 - mae: 3.1816 - lr: 0.6310\n",
      "Epoch 78/100\n",
      "10/10 [==============================] - 1s 111ms/step - loss: 2.7197 - mae: 3.1867 - lr: 0.7079\n",
      "Epoch 79/100\n",
      "10/10 [==============================] - 1s 112ms/step - loss: 2.7221 - mae: 3.1885 - lr: 0.7943\n",
      "Epoch 80/100\n",
      "10/10 [==============================] - 1s 113ms/step - loss: 2.7171 - mae: 3.1846 - lr: 0.8913\n",
      "Epoch 81/100\n",
      "10/10 [==============================] - 1s 114ms/step - loss: 2.7600 - mae: 3.2281 - lr: 1.0000\n",
      "Epoch 82/100\n",
      "10/10 [==============================] - 1s 114ms/step - loss: 2.7488 - mae: 3.2164 - lr: 1.1220\n",
      "Epoch 83/100\n",
      "10/10 [==============================] - 1s 111ms/step - loss: 2.7525 - mae: 3.2210 - lr: 1.2589\n",
      "Epoch 84/100\n",
      "10/10 [==============================] - 1s 140ms/step - loss: 2.7245 - mae: 3.1908 - lr: 1.4125\n",
      "Epoch 85/100\n",
      "10/10 [==============================] - 2s 139ms/step - loss: 2.7180 - mae: 3.1836 - lr: 1.5849\n",
      "Epoch 86/100\n",
      "10/10 [==============================] - 1s 125ms/step - loss: 2.7484 - mae: 3.2127 - lr: 1.7783\n",
      "Epoch 87/100\n",
      "10/10 [==============================] - 1s 125ms/step - loss: 2.7903 - mae: 3.2601 - lr: 1.9953\n",
      "Epoch 88/100\n",
      "10/10 [==============================] - 1s 114ms/step - loss: 2.7629 - mae: 3.2309 - lr: 2.2387\n",
      "Epoch 89/100\n",
      "10/10 [==============================] - 1s 112ms/step - loss: 2.7451 - mae: 3.2110 - lr: 2.5119\n",
      "Epoch 90/100\n",
      "10/10 [==============================] - 1s 113ms/step - loss: 2.7188 - mae: 3.1846 - lr: 2.8184\n",
      "Epoch 91/100\n",
      "10/10 [==============================] - 1s 118ms/step - loss: 2.7238 - mae: 3.1900 - lr: 3.1623\n",
      "Epoch 92/100\n",
      "10/10 [==============================] - 1s 114ms/step - loss: 2.7278 - mae: 3.1942 - lr: 3.5481\n",
      "Epoch 93/100\n",
      "10/10 [==============================] - 1s 127ms/step - loss: 2.7340 - mae: 3.2006 - lr: 3.9811\n",
      "Epoch 94/100\n",
      "10/10 [==============================] - 2s 151ms/step - loss: 2.7550 - mae: 3.2212 - lr: 4.4668\n",
      "Epoch 95/100\n",
      "10/10 [==============================] - 1s 138ms/step - loss: 2.8641 - mae: 3.3329 - lr: 5.0119\n",
      "Epoch 96/100\n",
      "10/10 [==============================] - 2s 141ms/step - loss: 2.8053 - mae: 3.2731 - lr: 5.6234\n",
      "Epoch 97/100\n",
      "10/10 [==============================] - 1s 138ms/step - loss: 2.7488 - mae: 3.2160 - lr: 6.3096\n",
      "Epoch 98/100\n",
      "10/10 [==============================] - 1s 121ms/step - loss: 2.7410 - mae: 3.2098 - lr: 7.0795\n",
      "Epoch 99/100\n",
      "10/10 [==============================] - 1s 121ms/step - loss: 2.7879 - mae: 3.2540 - lr: 7.9433\n",
      "Epoch 100/100\n",
      "10/10 [==============================] - 1s 123ms/step - loss: 2.7731 - mae: 3.2421 - lr: 8.9125\n"
     ]
    }
   ],
   "source": [
    "lr_history = adjust_learning_rate(train_set)"
   ]
  },
  {
   "cell_type": "code",
   "execution_count": 32,
   "id": "cf1439f5",
   "metadata": {},
   "outputs": [
    {
     "data": {
      "text/plain": [
       "(0.0001, 10.0, 0.0, 10.0)"
      ]
     },
     "execution_count": 32,
     "metadata": {},
     "output_type": "execute_result"
    },
    {
     "data": {
      "image/png": "[encoded data removed]",
      "text/plain": [
       "<Figure size 432x288 with 1 Axes>"
      ]
     },
     "metadata": {
      "needs_background": "light"
     },
     "output_type": "display_data"
    }
   ],
   "source": [
    "plt.semilogx(lr_history.history[\"lr\"], lr_history.history[\"loss\"])\n",
    "plt.axis([1e-4, 10, 0, 10])"
   ]
  },
  {
   "cell_type": "markdown",
   "id": "7c71ce0e",
   "metadata": {},
   "source": [
    "Now we can evaluate the learning rate."
   ]
  },
  {
   "cell_type": "code",
   "execution_count": 43,
   "id": "cb6cacc8",
   "metadata": {},
   "outputs": [],
   "source": [
    "learning_rate = 5e-3"
   ]
  },
  {
   "cell_type": "markdown",
   "id": "4a3cfa44",
   "metadata": {},
   "source": [
    "# Compile the model with chosen learning rate"
   ]
  },
  {
   "cell_type": "code",
   "execution_count": 44,
   "id": "b44e6edc",
   "metadata": {},
   "outputs": [],
   "source": [
    "def create_model():\n",
    "\n",
    "    \n",
    "    model = create_uncompiled_model()\n",
    "\n",
    "    optimizer = tf.keras.optimizers.SGD(learning_rate=learning_rate, momentum=0.9)\n",
    "\n",
    "    model.compile(loss=tf.keras.losses.Huber(),\n",
    "                  optimizer=optimizer,\n",
    "                  metrics=[\"mae\"])  \n",
    "   \n",
    "\n",
    "    return model"
   ]
  },
  {
   "cell_type": "code",
   "execution_count": 45,
   "id": "467230ee",
   "metadata": {},
   "outputs": [
    {
     "name": "stdout",
     "output_type": "stream",
     "text": [
      "Epoch 1/50\n",
      "10/10 [==============================] - 3s 113ms/step - loss: 10.0003 - mae: 10.4989\n",
      "Epoch 2/50\n",
      "10/10 [==============================] - 1s 112ms/step - loss: 7.4594 - mae: 7.9534\n",
      "Epoch 3/50\n",
      "10/10 [==============================] - 1s 113ms/step - loss: 3.5621 - mae: 4.0391\n",
      "Epoch 4/50\n",
      "10/10 [==============================] - 1s 109ms/step - loss: 2.9393 - mae: 3.4104\n",
      "Epoch 5/50\n",
      "10/10 [==============================] - 1s 112ms/step - loss: 2.6367 - mae: 3.1031\n",
      "Epoch 6/50\n",
      "10/10 [==============================] - 1s 113ms/step - loss: 2.3887 - mae: 2.8502\n",
      "Epoch 7/50\n",
      "10/10 [==============================] - 1s 114ms/step - loss: 2.7356 - mae: 3.2017\n",
      "Epoch 8/50\n",
      "10/10 [==============================] - 1s 109ms/step - loss: 2.5861 - mae: 3.0503\n",
      "Epoch 9/50\n",
      "10/10 [==============================] - 1s 112ms/step - loss: 2.3274 - mae: 2.7874\n",
      "Epoch 10/50\n",
      "10/10 [==============================] - 1s 113ms/step - loss: 1.9608 - mae: 2.4176\n",
      "Epoch 11/50\n",
      "10/10 [==============================] - 1s 109ms/step - loss: 1.8041 - mae: 2.2568\n",
      "Epoch 12/50\n",
      "10/10 [==============================] - 1s 113ms/step - loss: 1.8124 - mae: 2.2654\n",
      "Epoch 13/50\n",
      "10/10 [==============================] - 1s 113ms/step - loss: 1.7291 - mae: 2.1787\n",
      "Epoch 14/50\n",
      "10/10 [==============================] - 1s 108ms/step - loss: 1.6714 - mae: 2.1223\n",
      "Epoch 15/50\n",
      "10/10 [==============================] - 1s 111ms/step - loss: 1.7080 - mae: 2.1568\n",
      "Epoch 16/50\n",
      "10/10 [==============================] - 1s 112ms/step - loss: 1.6510 - mae: 2.1010\n",
      "Epoch 17/50\n",
      "10/10 [==============================] - 1s 109ms/step - loss: 1.6647 - mae: 2.1128\n",
      "Epoch 18/50\n",
      "10/10 [==============================] - 1s 112ms/step - loss: 1.6415 - mae: 2.0883\n",
      "Epoch 19/50\n",
      "10/10 [==============================] - 1s 111ms/step - loss: 1.6287 - mae: 2.0749\n",
      "Epoch 20/50\n",
      "10/10 [==============================] - 1s 110ms/step - loss: 1.5768 - mae: 2.0212\n",
      "Epoch 21/50\n",
      "10/10 [==============================] - 1s 113ms/step - loss: 1.6648 - mae: 2.1156\n",
      "Epoch 22/50\n",
      "10/10 [==============================] - 1s 111ms/step - loss: 1.6392 - mae: 2.0897\n",
      "Epoch 23/50\n",
      "10/10 [==============================] - 1s 111ms/step - loss: 1.5791 - mae: 2.0226\n",
      "Epoch 24/50\n",
      "10/10 [==============================] - 1s 113ms/step - loss: 1.5254 - mae: 1.9667\n",
      "Epoch 25/50\n",
      "10/10 [==============================] - 1s 112ms/step - loss: 1.5802 - mae: 2.0271\n",
      "Epoch 26/50\n",
      "10/10 [==============================] - 1s 114ms/step - loss: 1.5367 - mae: 1.9799\n",
      "Epoch 27/50\n",
      "10/10 [==============================] - 1s 115ms/step - loss: 1.5867 - mae: 2.0333\n",
      "Epoch 28/50\n",
      "10/10 [==============================] - 1s 111ms/step - loss: 1.5135 - mae: 1.9569\n",
      "Epoch 29/50\n",
      "10/10 [==============================] - 1s 112ms/step - loss: 1.5073 - mae: 1.9463\n",
      "Epoch 30/50\n",
      "10/10 [==============================] - 1s 114ms/step - loss: 1.5578 - mae: 2.0012\n",
      "Epoch 31/50\n",
      "10/10 [==============================] - 1s 112ms/step - loss: 1.5391 - mae: 1.9838\n",
      "Epoch 32/50\n",
      "10/10 [==============================] - 1s 113ms/step - loss: 1.4909 - mae: 1.9318\n",
      "Epoch 33/50\n",
      "10/10 [==============================] - 1s 115ms/step - loss: 1.5202 - mae: 1.9628\n",
      "Epoch 34/50\n",
      "10/10 [==============================] - 1s 112ms/step - loss: 1.5824 - mae: 2.0269\n",
      "Epoch 35/50\n",
      "10/10 [==============================] - 1s 115ms/step - loss: 1.6091 - mae: 2.0560\n",
      "Epoch 36/50\n",
      "10/10 [==============================] - 1s 115ms/step - loss: 1.6333 - mae: 2.0775\n",
      "Epoch 37/50\n",
      "10/10 [==============================] - 1s 113ms/step - loss: 1.6430 - mae: 2.0893\n",
      "Epoch 38/50\n",
      "10/10 [==============================] - 1s 111ms/step - loss: 1.5822 - mae: 2.0274\n",
      "Epoch 39/50\n",
      "10/10 [==============================] - 1s 112ms/step - loss: 1.4961 - mae: 1.9388\n",
      "Epoch 40/50\n",
      "10/10 [==============================] - 1s 113ms/step - loss: 1.4829 - mae: 1.9246\n",
      "Epoch 41/50\n",
      "10/10 [==============================] - 1s 116ms/step - loss: 1.4996 - mae: 1.9400\n",
      "Epoch 42/50\n",
      "10/10 [==============================] - 1s 116ms/step - loss: 1.5091 - mae: 1.9537\n",
      "Epoch 43/50\n",
      "10/10 [==============================] - 1s 113ms/step - loss: 1.4953 - mae: 1.9328\n",
      "Epoch 44/50\n",
      "10/10 [==============================] - 1s 114ms/step - loss: 1.5483 - mae: 1.9919\n",
      "Epoch 45/50\n",
      "10/10 [==============================] - 1s 113ms/step - loss: 1.5372 - mae: 1.9787\n",
      "Epoch 46/50\n",
      "10/10 [==============================] - 1s 114ms/step - loss: 1.5086 - mae: 1.9495\n",
      "Epoch 47/50\n",
      "10/10 [==============================] - 1s 115ms/step - loss: 1.4758 - mae: 1.9161\n",
      "Epoch 48/50\n",
      "10/10 [==============================] - 1s 115ms/step - loss: 1.4761 - mae: 1.9171\n",
      "Epoch 49/50\n",
      "10/10 [==============================] - 1s 116ms/step - loss: 1.4841 - mae: 1.9244\n",
      "Epoch 50/50\n",
      "10/10 [==============================] - 1s 116ms/step - loss: 1.5174 - mae: 1.9607\n"
     ]
    }
   ],
   "source": [
    "model = create_model()\n",
    "history = model.fit(train_set, epochs=50)"
   ]
  },
  {
   "cell_type": "markdown",
   "id": "913537d9",
   "metadata": {},
   "source": [
    "# Evaluating the forecast"
   ]
  },
  {
   "cell_type": "code",
   "execution_count": 46,
   "id": "b29a9777",
   "metadata": {},
   "outputs": [],
   "source": [
    "def compute_metrics(true_series, forecast):\n",
    "    \n",
    "    mse = tf.keras.metrics.mean_squared_error(true_series, forecast).numpy()\n",
    "    mae = tf.keras.metrics.mean_absolute_error(true_series, forecast).numpy()\n",
    "\n",
    "    return mse, mae"
   ]
  },
  {
   "cell_type": "code",
   "execution_count": 47,
   "id": "0b771401",
   "metadata": {},
   "outputs": [],
   "source": [
    "def model_forecast(model, series, window_size):\n",
    "    ds = tf.data.Dataset.from_tensor_slices(series)\n",
    "    ds = ds.window(window_size, shift=1, drop_remainder=True)\n",
    "    ds = ds.flat_map(lambda w: w.batch(window_size))\n",
    "    ds = ds.batch(32).prefetch(1)\n",
    "    forecast = model.predict(ds)\n",
    "    return forecast"
   ]
  },
  {
   "cell_type": "code",
   "execution_count": 48,
   "id": "18944ae5",
   "metadata": {},
   "outputs": [
    {
     "name": "stdout",
     "output_type": "stream",
     "text": [
      "113/113 [==============================] - 2s 10ms/step\n"
     ]
    },
    {
     "data": {
      "image/png": "[encoded data removed]",
      "text/plain": [
       "<Figure size 720x432 with 1 Axes>"
      ]
     },
     "metadata": {
      "needs_background": "light"
     },
     "output_type": "display_data"
    }
   ],
   "source": [
    "# Compute the forecast for all the series\n",
    "rnn_forecast = model_forecast(model, temperatures, WINDOW_SIZE).squeeze()\n",
    "\n",
    "# Slice the forecast to get only the predictions for the validation set\n",
    "rnn_forecast = rnn_forecast[SPLIT_TIME - WINDOW_SIZE:-1]\n",
    "\n",
    "\n",
    "# Plot the forecast\n",
    "plt.figure(figsize=(10, 6))\n",
    "plot_series(time_valid, series_valid)\n",
    "plot_series(time_valid, rnn_forecast)"
   ]
  },
  {
   "cell_type": "code",
   "execution_count": 49,
   "id": "b10c3216",
   "metadata": {},
   "outputs": [
    {
     "name": "stdout",
     "output_type": "stream",
     "text": [
      "mse: 5.82, mae: 1.88 for forecast\n"
     ]
    }
   ],
   "source": [
    "mse, mae = compute_metrics(series_valid, rnn_forecast)\n",
    "\n",
    "print(f\"mse: {mse:.2f}, mae: {mae:.2f} for forecast\")"
   ]
  },
  {
   "cell_type": "code",
   "execution_count": null,
   "id": "47dd1508",
   "metadata": {},
   "outputs": [],
   "source": []
  }
 ],
 "metadata": {
  "kernelspec": {
   "display_name": "Python 3 (ipykernel)",
   "language": "python",
   "name": "python3"
  },
  "language_info": {
   "codemirror_mode": {
    "name": "ipython",
    "version": 3
   },
   "file_extension": ".py",
   "mimetype": "text/x-python",
   "name": "python",
   "nbconvert_exporter": "python",
   "pygments_lexer": "ipython3",
   "version": "3.9.7"
  }
 },
 "nbformat": 4,
 "nbformat_minor": 5
}
